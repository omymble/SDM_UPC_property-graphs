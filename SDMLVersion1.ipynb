{
 "cells": [
  {
   "cell_type": "code",
   "execution_count": 1,
   "id": "e141311d-3140-438e-93a3-4d9e4d572c05",
   "metadata": {},
   "outputs": [],
   "source": [
    "import os\n",
    "import pandas as pd\n",
    "import gc\n",
    "from IPython.display import display, HTML\n",
    "import glob\n",
    "pd.set_option('display.max_colwidth', None)\n",
    "import lorem\n",
    "import random\n",
    "from collections import defaultdict\n",
    "import csv\n",
    "import enchant\n",
    "import warnings\n",
    "\n",
    "with warnings.catch_warnings():\n",
    "    warnings.filterwarnings(\"ignore\",category=DeprecationWarning)"
   ]
  },
  {
   "cell_type": "code",
   "execution_count": 2,
   "id": "8f9c5c59-aca2-4614-ae25-ff6ac130c8d0",
   "metadata": {},
   "outputs": [
    {
     "data": {
      "text/plain": [
       "['DXML\\\\output_article.csv',\n",
       " 'DXML\\\\output_article_header.csv',\n",
       " 'DXML\\\\output_author.csv',\n",
       " 'DXML\\\\output_author_authored_by.csv',\n",
       " 'DXML\\\\output_book.csv']"
      ]
     },
     "execution_count": 2,
     "metadata": {},
     "output_type": "execute_result"
    }
   ],
   "source": [
    "#All CSV files generated from the DBLP XML\n",
    "## All files and directories ending with .csv:\n",
    "files = (glob.glob(\"DXML/*.csv\"))\n",
    "files[0:5]"
   ]
  },
  {
   "cell_type": "markdown",
   "id": "c90a5808-89d2-440d-a9b2-f70889ee64aa",
   "metadata": {},
   "source": [
    "### CITATION NODE"
   ]
  },
  {
   "cell_type": "code",
   "execution_count": 3,
   "id": "30ff5744-bd93-4126-be65-8983b65a6273",
   "metadata": {},
   "outputs": [
    {
     "name": "stdout",
     "output_type": "stream",
     "text": [
      "The total referenced papers are: 28590\n"
     ]
    }
   ],
   "source": [
    "# View All papers with Citations from cite_has_citation.csv\n",
    "\n",
    "citations = pd.read_csv('DXML\\\\output_cite_has_citation.csv',sep=';')\n",
    "#print(citations.head())\n",
    "\n",
    "# Number of papers that cite or are cited\n",
    "referenced_papers = list(set(list(citations[':START_ID']) + list(citations[':END_ID'])))\n",
    "print(f'The total referenced papers are: {len((referenced_papers))}')"
   ]
  },
  {
   "cell_type": "code",
   "execution_count": 4,
   "id": "d301db38-2931-445f-a7dc-227d93e601ec",
   "metadata": {},
   "outputs": [
    {
     "data": {
      "text/html": [
       "<div>\n",
       "<style scoped>\n",
       "    .dataframe tbody tr th:only-of-type {\n",
       "        vertical-align: middle;\n",
       "    }\n",
       "\n",
       "    .dataframe tbody tr th {\n",
       "        vertical-align: top;\n",
       "    }\n",
       "\n",
       "    .dataframe thead th {\n",
       "        text-align: right;\n",
       "    }\n",
       "</style>\n",
       "<table border=\"1\" class=\"dataframe\">\n",
       "  <thead>\n",
       "    <tr style=\"text-align: right;\">\n",
       "      <th></th>\n",
       "      <th>:ARTICLE_ID</th>\n",
       "      <th>:CITATION_ID</th>\n",
       "      <th>cite:string</th>\n",
       "    </tr>\n",
       "  </thead>\n",
       "  <tbody>\n",
       "    <tr>\n",
       "      <th>0</th>\n",
       "      <td>105324</td>\n",
       "      <td>13068502</td>\n",
       "      <td>reference/db/Boncz09c</td>\n",
       "    </tr>\n",
       "    <tr>\n",
       "      <th>1</th>\n",
       "      <td>105689</td>\n",
       "      <td>13068503</td>\n",
       "      <td>reference/db/LevineM09</td>\n",
       "    </tr>\n",
       "    <tr>\n",
       "      <th>2</th>\n",
       "      <td>106160</td>\n",
       "      <td>13068504</td>\n",
       "      <td>reference/db/Han09</td>\n",
       "    </tr>\n",
       "    <tr>\n",
       "      <th>3</th>\n",
       "      <td>106256</td>\n",
       "      <td>13068505</td>\n",
       "      <td>reference/db/Amati09c</td>\n",
       "    </tr>\n",
       "    <tr>\n",
       "      <th>4</th>\n",
       "      <td>6218246</td>\n",
       "      <td>13068506</td>\n",
       "      <td>books/bc/BatiniCN92</td>\n",
       "    </tr>\n",
       "  </tbody>\n",
       "</table>\n",
       "</div>"
      ],
      "text/plain": [
       "   :ARTICLE_ID  :CITATION_ID             cite:string\n",
       "0       105324      13068502   reference/db/Boncz09c\n",
       "1       105689      13068503  reference/db/LevineM09\n",
       "2       106160      13068504      reference/db/Han09\n",
       "3       106256      13068505   reference/db/Amati09c\n",
       "4      6218246      13068506     books/bc/BatiniCN92"
      ]
     },
     "execution_count": 4,
     "metadata": {},
     "output_type": "execute_result"
    }
   ],
   "source": [
    "# Merge cite and cite_has_citation\n",
    "\n",
    "cite = pd.read_csv('DXML\\\\output_cite.csv',sep=';')\n",
    "#print(cite.head())\n",
    "\n",
    "# Merging\n",
    "cited = pd.merge(citations, cite, left_on=':END_ID', right_on=':ID', how=\"left\")\n",
    "cited.drop(columns=[':ID'], inplace=True)\n",
    "\n",
    "cited = cited.rename(columns={\n",
    "    ':START_ID': ':ARTICLE_ID',\n",
    "    ':END_ID': ':CITATION_ID'\n",
    "})\n",
    "\n",
    "\n",
    "cited.head()\n",
    "\n",
    "#productID:ID(productID)\n",
    "#supplierID:ID(supplierID)\n",
    "#supplierID:ID(supplierID) --> :START_ID(supplierID) --> :END_ID(productID) --> productID:ID(productID)\n",
    "#article:ID --> [:START_ID(:ARTICLE_ID) --> :END_ID(:CITATION_ID)] --> :ID[cite]"
   ]
  },
  {
   "cell_type": "code",
   "execution_count": null,
   "id": "62e3b5a4-ee0d-417a-ad1c-f7eaaa30650d",
   "metadata": {},
   "outputs": [],
   "source": []
  },
  {
   "cell_type": "markdown",
   "id": "8faceb88-743f-4519-b576-e7b342363cfb",
   "metadata": {},
   "source": [
    "### ARTICLE NODE"
   ]
  },
  {
   "cell_type": "code",
   "execution_count": 5,
   "id": "95b8f7e8-9fe3-496b-8ec6-cd76bc008eb0",
   "metadata": {},
   "outputs": [
    {
     "name": "stderr",
     "output_type": "stream",
     "text": [
      "C:\\Users\\chibo\\anaconda3\\lib\\site-packages\\IPython\\core\\interactiveshell.py:3444: DtypeWarning: Columns (2,4,5,6,7,8,9,10,11,14,18,19,20,21,22,23,24,25,26,28,30,31,33) have mixed types.Specify dtype option on import or set low_memory=False.\n",
      "  exec(code_obj, self.user_global_ns, self.user_ns)\n"
     ]
    }
   ],
   "source": [
    "# View total number of articles \n",
    "\n",
    "## Article headers\n",
    "with open('DXML\\\\output_article_header.csv') as f:\n",
    "    article_header = f.readline().split(';');\n",
    "    #print(article_header[1:5])\n",
    "\n",
    "## Number of articles in dataset\n",
    "articles = pd.read_csv('DXML\\\\output_article.csv', header=0, names=article_header, sep=';');\n",
    "\n",
    "## Display articles\n",
    "#articles.head(2)"
   ]
  },
  {
   "cell_type": "code",
   "execution_count": 6,
   "id": "00628354-4a2a-4cb4-80a8-8ed64c82d540",
   "metadata": {},
   "outputs": [],
   "source": [
    "# Pre-processing Total number of articles\n",
    "\n",
    "## Drop articles columns with more than half null values \n",
    "articles.drop(columns = [i for i in articles.columns if (articles[i].isna().sum() > articles[i].count()/2) == True], inplace = True)\n",
    "\n",
    "## Drop articles rows without author, number or articleID\n",
    "articles.dropna(subset = [i for i in articles.columns], inplace = True)"
   ]
  },
  {
   "cell_type": "code",
   "execution_count": 7,
   "id": "d9b5e57f-848c-4774-b571-7bb313776bdc",
   "metadata": {},
   "outputs": [
    {
     "name": "stdout",
     "output_type": "stream",
     "text": [
      "The articles in list of reference papers are: 1656\n",
      "The articles not in list of reference papers are: 200000\n",
      "The total articles to be used are: 201656\n"
     ]
    },
    {
     "data": {
      "text/html": [
       "<div>\n",
       "<style scoped>\n",
       "    .dataframe tbody tr th:only-of-type {\n",
       "        vertical-align: middle;\n",
       "    }\n",
       "\n",
       "    .dataframe tbody tr th {\n",
       "        vertical-align: top;\n",
       "    }\n",
       "\n",
       "    .dataframe thead th {\n",
       "        text-align: right;\n",
       "    }\n",
       "</style>\n",
       "<table border=\"1\" class=\"dataframe\">\n",
       "  <thead>\n",
       "    <tr style=\"text-align: right;\">\n",
       "      <th></th>\n",
       "      <th>article:ID</th>\n",
       "      <th>author:string[]</th>\n",
       "      <th>ee:string[]</th>\n",
       "      <th>journal:string</th>\n",
       "      <th>key:string</th>\n",
       "      <th>mdate:date</th>\n",
       "      <th>number:string</th>\n",
       "      <th>pages:string</th>\n",
       "      <th>title:string</th>\n",
       "      <th>url:string[]</th>\n",
       "      <th>volume:string</th>\n",
       "      <th>year:int</th>\n",
       "    </tr>\n",
       "  </thead>\n",
       "  <tbody>\n",
       "    <tr>\n",
       "      <th>673173</th>\n",
       "      <td>7285251</td>\n",
       "      <td>Dennis E. Shasha</td>\n",
       "      <td>http://sites.computer.org/debull/99june/dennisa.ps</td>\n",
       "      <td>IEEE Data Eng. Bull.</td>\n",
       "      <td>journals/debu/Shasha99</td>\n",
       "      <td>2020-03-10</td>\n",
       "      <td>2</td>\n",
       "      <td>40-46</td>\n",
       "      <td>Tuning Time Series Queries in Finance: Case Studies and Recommendations.</td>\n",
       "      <td>db/journals/debu/debu22.html#Shasha99</td>\n",
       "      <td>22.0</td>\n",
       "      <td>1999.0</td>\n",
       "    </tr>\n",
       "    <tr>\n",
       "      <th>673202</th>\n",
       "      <td>7285280</td>\n",
       "      <td>Alex Delis|Chung-Min Chen|Nick Roussopoulos|Stephen Kelley|Yannis Papakonstantinou</td>\n",
       "      <td>http://sites.computer.org/debull/95JUN-CD.pdf</td>\n",
       "      <td>IEEE Data Eng. Bull.</td>\n",
       "      <td>journals/debu/RoussopoulosCKDP95</td>\n",
       "      <td>2020-03-10</td>\n",
       "      <td>2</td>\n",
       "      <td>19-28</td>\n",
       "      <td>The ADMS Project: View R Us.</td>\n",
       "      <td>db/journals/debu/debu18.html#RoussopoulosCKDP95</td>\n",
       "      <td>18.0</td>\n",
       "      <td>1995.0</td>\n",
       "    </tr>\n",
       "    <tr>\n",
       "      <th>673216</th>\n",
       "      <td>7285294</td>\n",
       "      <td>Giansalvatore Mecca|Paolo Atzeni|Paolo Merialdo</td>\n",
       "      <td>http://sites.computer.org/debull/99sept/araneus.ps</td>\n",
       "      <td>IEEE Data Eng. Bull.</td>\n",
       "      <td>journals/debu/MeccaMA99</td>\n",
       "      <td>2020-03-10</td>\n",
       "      <td>3</td>\n",
       "      <td>19-26</td>\n",
       "      <td>Araneus in the Era of XML.</td>\n",
       "      <td>db/journals/debu/debu22.html#MeccaMA99</td>\n",
       "      <td>22.0</td>\n",
       "      <td>1999.0</td>\n",
       "    </tr>\n",
       "  </tbody>\n",
       "</table>\n",
       "</div>"
      ],
      "text/plain": [
       "        article:ID  \\\n",
       "673173     7285251   \n",
       "673202     7285280   \n",
       "673216     7285294   \n",
       "\n",
       "                                                                           author:string[]  \\\n",
       "673173                                                                    Dennis E. Shasha   \n",
       "673202  Alex Delis|Chung-Min Chen|Nick Roussopoulos|Stephen Kelley|Yannis Papakonstantinou   \n",
       "673216                                     Giansalvatore Mecca|Paolo Atzeni|Paolo Merialdo   \n",
       "\n",
       "                                               ee:string[]  \\\n",
       "673173  http://sites.computer.org/debull/99june/dennisa.ps   \n",
       "673202       http://sites.computer.org/debull/95JUN-CD.pdf   \n",
       "673216  http://sites.computer.org/debull/99sept/araneus.ps   \n",
       "\n",
       "              journal:string                        key:string  mdate:date  \\\n",
       "673173  IEEE Data Eng. Bull.            journals/debu/Shasha99  2020-03-10   \n",
       "673202  IEEE Data Eng. Bull.  journals/debu/RoussopoulosCKDP95  2020-03-10   \n",
       "673216  IEEE Data Eng. Bull.           journals/debu/MeccaMA99  2020-03-10   \n",
       "\n",
       "       number:string pages:string  \\\n",
       "673173             2        40-46   \n",
       "673202             2        19-28   \n",
       "673216             3        19-26   \n",
       "\n",
       "                                                                    title:string  \\\n",
       "673173  Tuning Time Series Queries in Finance: Case Studies and Recommendations.   \n",
       "673202                                              The ADMS Project: View R Us.   \n",
       "673216                                                Araneus in the Era of XML.   \n",
       "\n",
       "                                           url:string[] volume:string  \\\n",
       "673173            db/journals/debu/debu22.html#Shasha99          22.0   \n",
       "673202  db/journals/debu/debu18.html#RoussopoulosCKDP95          18.0   \n",
       "673216           db/journals/debu/debu22.html#MeccaMA99          22.0   \n",
       "\n",
       "        year:int  \n",
       "673173    1999.0  \n",
       "673202    1995.0  \n",
       "673216    1999.0  "
      ]
     },
     "metadata": {},
     "output_type": "display_data"
    }
   ],
   "source": [
    "# Select both cited and non-cited Articles randomly from data\n",
    "\n",
    "## Selecting articles not in reference papers\n",
    "articles_in_ref = articles[articles['article:ID'].isin(referenced_papers)]\n",
    "print(f'The articles in list of reference papers are: {len((articles_in_ref))}')\n",
    "\n",
    "## Selecting 200000 articles in reference papers\n",
    "articles_not_in_ref = articles[~articles['article:ID'].isin(referenced_papers)].sample(n=200000, random_state=1)\n",
    "print(f'The articles not in list of reference papers are: {len((articles_not_in_ref))}')\n",
    "\n",
    "## Merging all selected articles together\n",
    "articles_selected = pd.concat([articles_in_ref, articles_not_in_ref])\n",
    "print(f'The total articles to be used are: {len((articles_selected))}')\n",
    "\n",
    "## Display selected articles\n",
    "display(articles_selected.head(3))"
   ]
  },
  {
   "cell_type": "code",
   "execution_count": 8,
   "id": "085214a1-3396-4f20-a05f-bcc7db84f43c",
   "metadata": {},
   "outputs": [],
   "source": [
    "#articles_selected.to_csv(path_or_buf='Mains/articles.csv',index=False)"
   ]
  },
  {
   "cell_type": "code",
   "execution_count": 9,
   "id": "bd4f8824-338a-4238-a187-a03acfd3aa62",
   "metadata": {},
   "outputs": [
    {
     "data": {
      "text/plain": [
       "18"
      ]
     },
     "execution_count": 9,
     "metadata": {},
     "output_type": "execute_result"
    }
   ],
   "source": [
    "# free up Memory Allocation\n",
    "\n",
    "del articles\n",
    "gc.collect()"
   ]
  },
  {
   "cell_type": "markdown",
   "id": "9f8e9d35-12ea-4984-bc6d-83b8d62c2552",
   "metadata": {},
   "source": [
    "### AUTHORS NODE"
   ]
  },
  {
   "cell_type": "code",
   "execution_count": 10,
   "id": "29eda3f8-a054-484a-b4f6-e37e01fa879c",
   "metadata": {},
   "outputs": [],
   "source": [
    "# View Authors\n",
    "\n",
    "authors = pd.read_csv('DXML\\\\output_author.csv',sep=';')\n",
    "authors_articles = pd.read_csv('DXML\\\\output_author_authored_by.csv', sep=';')"
   ]
  },
  {
   "cell_type": "code",
   "execution_count": 11,
   "id": "0bae8c59-81cc-4f1b-bb4d-9d1b55fb15fa",
   "metadata": {},
   "outputs": [
    {
     "data": {
      "text/plain": [
       "(614017, 2)"
      ]
     },
     "execution_count": 11,
     "metadata": {},
     "output_type": "execute_result"
    }
   ],
   "source": [
    "# Authors that have written articles\n",
    "#authors_in_articles_sel = authors_articles[authors_articles[':START_ID'].isin(list(articles_selected['article:ID']))]\n",
    "\n",
    "authors_in_articles_sel = pd.merge(authors_articles, articles_selected, left_on=':START_ID', \n",
    "                                   right_on='article:ID').drop(columns = [i for i in articles_selected.columns])\n",
    "\n",
    "authors_in_articles_sel.shape"
   ]
  },
  {
   "cell_type": "code",
   "execution_count": 12,
   "id": "baa222bd-0aa3-4c89-aec8-564437589332",
   "metadata": {},
   "outputs": [
    {
     "data": {
      "text/html": [
       "<div>\n",
       "<style scoped>\n",
       "    .dataframe tbody tr th:only-of-type {\n",
       "        vertical-align: middle;\n",
       "    }\n",
       "\n",
       "    .dataframe tbody tr th {\n",
       "        vertical-align: top;\n",
       "    }\n",
       "\n",
       "    .dataframe thead th {\n",
       "        text-align: right;\n",
       "    }\n",
       "</style>\n",
       "<table border=\"1\" class=\"dataframe\">\n",
       "  <thead>\n",
       "    <tr style=\"text-align: right;\">\n",
       "      <th></th>\n",
       "      <th>:START_ID</th>\n",
       "      <th>:END_ID</th>\n",
       "    </tr>\n",
       "  </thead>\n",
       "  <tbody>\n",
       "    <tr>\n",
       "      <th>0</th>\n",
       "      <td>6667623</td>\n",
       "      <td>9734488</td>\n",
       "    </tr>\n",
       "    <tr>\n",
       "      <th>1</th>\n",
       "      <td>8552975</td>\n",
       "      <td>9734490</td>\n",
       "    </tr>\n",
       "    <tr>\n",
       "      <th>2</th>\n",
       "      <td>8552975</td>\n",
       "      <td>9734852</td>\n",
       "    </tr>\n",
       "    <tr>\n",
       "      <th>3</th>\n",
       "      <td>8552975</td>\n",
       "      <td>10708262</td>\n",
       "    </tr>\n",
       "    <tr>\n",
       "      <th>4</th>\n",
       "      <td>8552975</td>\n",
       "      <td>11122363</td>\n",
       "    </tr>\n",
       "  </tbody>\n",
       "</table>\n",
       "</div>"
      ],
      "text/plain": [
       "   :START_ID   :END_ID\n",
       "0    6667623   9734488\n",
       "1    8552975   9734490\n",
       "2    8552975   9734852\n",
       "3    8552975  10708262\n",
       "4    8552975  11122363"
      ]
     },
     "execution_count": 12,
     "metadata": {},
     "output_type": "execute_result"
    }
   ],
   "source": [
    "authors_in_articles_sel.head()"
   ]
  },
  {
   "cell_type": "code",
   "execution_count": 13,
   "id": "f68bb72e-7ee7-43ab-9a8b-c304d0495ed4",
   "metadata": {},
   "outputs": [
    {
     "data": {
      "text/html": [
       "<div>\n",
       "<style scoped>\n",
       "    .dataframe tbody tr th:only-of-type {\n",
       "        vertical-align: middle;\n",
       "    }\n",
       "\n",
       "    .dataframe tbody tr th {\n",
       "        vertical-align: top;\n",
       "    }\n",
       "\n",
       "    .dataframe thead th {\n",
       "        text-align: right;\n",
       "    }\n",
       "</style>\n",
       "<table border=\"1\" class=\"dataframe\">\n",
       "  <thead>\n",
       "    <tr style=\"text-align: right;\">\n",
       "      <th></th>\n",
       "      <th>:ID</th>\n",
       "      <th>author:string</th>\n",
       "    </tr>\n",
       "  </thead>\n",
       "  <tbody>\n",
       "    <tr>\n",
       "      <th>0</th>\n",
       "      <td>9734485</td>\n",
       "      <td>Oliver Hoffmann 0002</td>\n",
       "    </tr>\n",
       "    <tr>\n",
       "      <th>1</th>\n",
       "      <td>9734486</td>\n",
       "      <td>Florian Reitz</td>\n",
       "    </tr>\n",
       "    <tr>\n",
       "      <th>2</th>\n",
       "      <td>9734487</td>\n",
       "      <td>Russell Turpin</td>\n",
       "    </tr>\n",
       "    <tr>\n",
       "      <th>3</th>\n",
       "      <td>9734488</td>\n",
       "      <td>Frank Olken</td>\n",
       "    </tr>\n",
       "    <tr>\n",
       "      <th>4</th>\n",
       "      <td>9734489</td>\n",
       "      <td>Guido Frisch</td>\n",
       "    </tr>\n",
       "  </tbody>\n",
       "</table>\n",
       "</div>"
      ],
      "text/plain": [
       "       :ID         author:string\n",
       "0  9734485  Oliver Hoffmann 0002\n",
       "1  9734486         Florian Reitz\n",
       "2  9734487        Russell Turpin\n",
       "3  9734488           Frank Olken\n",
       "4  9734489          Guido Frisch"
      ]
     },
     "execution_count": 13,
     "metadata": {},
     "output_type": "execute_result"
    }
   ],
   "source": [
    "authors.head()"
   ]
  },
  {
   "cell_type": "code",
   "execution_count": 14,
   "id": "443262ca-b215-4089-a098-1c03eefe33b1",
   "metadata": {},
   "outputs": [
    {
     "data": {
      "text/html": [
       "<div>\n",
       "<style scoped>\n",
       "    .dataframe tbody tr th:only-of-type {\n",
       "        vertical-align: middle;\n",
       "    }\n",
       "\n",
       "    .dataframe tbody tr th {\n",
       "        vertical-align: top;\n",
       "    }\n",
       "\n",
       "    .dataframe thead th {\n",
       "        text-align: right;\n",
       "    }\n",
       "</style>\n",
       "<table border=\"1\" class=\"dataframe\">\n",
       "  <thead>\n",
       "    <tr style=\"text-align: right;\">\n",
       "      <th></th>\n",
       "      <th>:ID</th>\n",
       "      <th>author:string</th>\n",
       "    </tr>\n",
       "  </thead>\n",
       "  <tbody>\n",
       "    <tr>\n",
       "      <th>0</th>\n",
       "      <td>9734488</td>\n",
       "      <td>Frank Olken</td>\n",
       "    </tr>\n",
       "    <tr>\n",
       "      <th>1</th>\n",
       "      <td>9734490</td>\n",
       "      <td>Stefano Cresci</td>\n",
       "    </tr>\n",
       "    <tr>\n",
       "      <th>5</th>\n",
       "      <td>9734498</td>\n",
       "      <td>Davide Tamborini</td>\n",
       "    </tr>\n",
       "    <tr>\n",
       "      <th>6</th>\n",
       "      <td>9734500</td>\n",
       "      <td>Filippo Bonchi</td>\n",
       "    </tr>\n",
       "    <tr>\n",
       "      <th>9</th>\n",
       "      <td>9734501</td>\n",
       "      <td>Alessia Amelio</td>\n",
       "    </tr>\n",
       "  </tbody>\n",
       "</table>\n",
       "</div>"
      ],
      "text/plain": [
       "       :ID     author:string\n",
       "0  9734488       Frank Olken\n",
       "1  9734490    Stefano Cresci\n",
       "5  9734498  Davide Tamborini\n",
       "6  9734500    Filippo Bonchi\n",
       "9  9734501    Alessia Amelio"
      ]
     },
     "execution_count": 14,
     "metadata": {},
     "output_type": "execute_result"
    }
   ],
   "source": [
    "# Authors that have written articles\n",
    "authored_with_articles = pd.merge(authors, authors_in_articles_sel, left_on=':ID',\n",
    "                                  right_on=':END_ID').drop(columns = [i for i in authors_in_articles_sel.columns])\n",
    "\n",
    "authored_with_articles = authored_with_articles.drop_duplicates()\n",
    "\n",
    "# Rename\n",
    "#authored_with_articles = authored_with_articles.rename(columns={\n",
    "#    ':START_ID': ':START_ID(:ARTICLE_ID)',\n",
    "#    ':END_ID': ':END_ID(:AUTHOR_ID)'\n",
    "#})\n",
    "\n",
    "authored_with_articles.head()\n",
    "\n",
    "#article:ID --> [:START_ID(:ARTICLE_ID) --> :END_ID(:CITATION_ID)] --> :ID[cite]"
   ]
  },
  {
   "cell_type": "code",
   "execution_count": 15,
   "id": "a4cfdc66-23be-4e76-88b0-97b2471c4fd4",
   "metadata": {},
   "outputs": [],
   "source": [
    "authors_in_articles_sel.to_csv(path_or_buf='Mains/authors_publishes_articles.csv',index=False)\n",
    "authored_with_articles.to_csv(path_or_buf='Mains/authors.csv',index=False)\n"
   ]
  },
  {
   "cell_type": "code",
   "execution_count": 16,
   "id": "c2b9d8cd-18e7-4e72-bdc4-ae877f5d5acd",
   "metadata": {},
   "outputs": [
    {
     "name": "stdout",
     "output_type": "stream",
     "text": [
      "(378808, 2)\n"
     ]
    },
    {
     "data": {
      "text/plain": [
       "0"
      ]
     },
     "execution_count": 16,
     "metadata": {},
     "output_type": "execute_result"
    }
   ],
   "source": [
    "print(authored_with_articles.shape)\n",
    "\n",
    "del authors, authors_articles\n",
    "gc.collect()"
   ]
  },
  {
   "cell_type": "markdown",
   "id": "2982b303-d947-45cb-a90c-eacc802da8fe",
   "metadata": {},
   "source": [
    "### JOURNALS NODE"
   ]
  },
  {
   "cell_type": "code",
   "execution_count": 17,
   "id": "a7f98588-3f37-4c22-860b-27af0b0e41c9",
   "metadata": {},
   "outputs": [],
   "source": [
    "\n",
    "#Similarly we want to keep only the journals for which we have articles published in\n",
    "journals = pd.read_csv('DXML\\\\output_journal.csv',sep=';')\n",
    "articles_in_journals = pd.read_csv('DXML\\\\output_journal_published_in.csv',sep=';')"
   ]
  },
  {
   "cell_type": "code",
   "execution_count": 18,
   "id": "698201f2-f2d4-403a-b35c-251a60dc43ca",
   "metadata": {},
   "outputs": [
    {
     "data": {
      "text/plain": [
       "(201656, 2)"
      ]
     },
     "execution_count": 18,
     "metadata": {},
     "output_type": "execute_result"
    }
   ],
   "source": [
    "journals_in_articles_sel = pd.merge(articles_in_journals, articles_selected, left_on=':START_ID', \n",
    "                                    right_on='article:ID').drop(columns = [i for i in articles_selected.columns])\n",
    "\n",
    "journals_in_articles_sel.shape"
   ]
  },
  {
   "cell_type": "code",
   "execution_count": 19,
   "id": "f131e62e-6b22-4b99-9503-3675425ce793",
   "metadata": {},
   "outputs": [
    {
     "data": {
      "text/html": [
       "<div>\n",
       "<style scoped>\n",
       "    .dataframe tbody tr th:only-of-type {\n",
       "        vertical-align: middle;\n",
       "    }\n",
       "\n",
       "    .dataframe tbody tr th {\n",
       "        vertical-align: top;\n",
       "    }\n",
       "\n",
       "    .dataframe thead th {\n",
       "        text-align: right;\n",
       "    }\n",
       "</style>\n",
       "<table border=\"1\" class=\"dataframe\">\n",
       "  <thead>\n",
       "    <tr style=\"text-align: right;\">\n",
       "      <th></th>\n",
       "      <th>:START_ID</th>\n",
       "      <th>:END_ID</th>\n",
       "    </tr>\n",
       "  </thead>\n",
       "  <tbody>\n",
       "    <tr>\n",
       "      <th>0</th>\n",
       "      <td>7270424</td>\n",
       "      <td>13088639</td>\n",
       "    </tr>\n",
       "    <tr>\n",
       "      <th>1</th>\n",
       "      <td>7270434</td>\n",
       "      <td>13088639</td>\n",
       "    </tr>\n",
       "    <tr>\n",
       "      <th>2</th>\n",
       "      <td>7270458</td>\n",
       "      <td>13088639</td>\n",
       "    </tr>\n",
       "    <tr>\n",
       "      <th>3</th>\n",
       "      <td>7270484</td>\n",
       "      <td>13088639</td>\n",
       "    </tr>\n",
       "    <tr>\n",
       "      <th>4</th>\n",
       "      <td>7270486</td>\n",
       "      <td>13088639</td>\n",
       "    </tr>\n",
       "  </tbody>\n",
       "</table>\n",
       "</div>"
      ],
      "text/plain": [
       "   :START_ID   :END_ID\n",
       "0    7270424  13088639\n",
       "1    7270434  13088639\n",
       "2    7270458  13088639\n",
       "3    7270484  13088639\n",
       "4    7270486  13088639"
      ]
     },
     "execution_count": 19,
     "metadata": {},
     "output_type": "execute_result"
    }
   ],
   "source": [
    "journals_in_articles_sel.head()"
   ]
  },
  {
   "cell_type": "code",
   "execution_count": 20,
   "id": "18d46e47-9ad1-4c84-b375-4a75276a23fc",
   "metadata": {},
   "outputs": [
    {
     "data": {
      "text/html": [
       "<div>\n",
       "<style scoped>\n",
       "    .dataframe tbody tr th:only-of-type {\n",
       "        vertical-align: middle;\n",
       "    }\n",
       "\n",
       "    .dataframe tbody tr th {\n",
       "        vertical-align: top;\n",
       "    }\n",
       "\n",
       "    .dataframe thead th {\n",
       "        text-align: right;\n",
       "    }\n",
       "</style>\n",
       "<table border=\"1\" class=\"dataframe\">\n",
       "  <thead>\n",
       "    <tr style=\"text-align: right;\">\n",
       "      <th></th>\n",
       "      <th>:ID</th>\n",
       "      <th>journal:string</th>\n",
       "    </tr>\n",
       "  </thead>\n",
       "  <tbody>\n",
       "    <tr>\n",
       "      <th>0</th>\n",
       "      <td>13088639</td>\n",
       "      <td>World Wide Web</td>\n",
       "    </tr>\n",
       "    <tr>\n",
       "      <th>1</th>\n",
       "      <td>13088640</td>\n",
       "      <td>SIGMOD Rec.</td>\n",
       "    </tr>\n",
       "    <tr>\n",
       "      <th>2</th>\n",
       "      <td>13088641</td>\n",
       "      <td>SIGMOD Record</td>\n",
       "    </tr>\n",
       "    <tr>\n",
       "      <th>3</th>\n",
       "      <td>13088642</td>\n",
       "      <td>EAI Endorsed Trans. Ubiquitous Environ.</td>\n",
       "    </tr>\n",
       "    <tr>\n",
       "      <th>4</th>\n",
       "      <td>13088643</td>\n",
       "      <td>Int. J. Trust. Manag. Comput. Commun.</td>\n",
       "    </tr>\n",
       "  </tbody>\n",
       "</table>\n",
       "</div>"
      ],
      "text/plain": [
       "        :ID                           journal:string\n",
       "0  13088639                           World Wide Web\n",
       "1  13088640                              SIGMOD Rec.\n",
       "2  13088641                            SIGMOD Record\n",
       "3  13088642  EAI Endorsed Trans. Ubiquitous Environ.\n",
       "4  13088643    Int. J. Trust. Manag. Comput. Commun."
      ]
     },
     "execution_count": 20,
     "metadata": {},
     "output_type": "execute_result"
    }
   ],
   "source": [
    "journals.head()"
   ]
  },
  {
   "cell_type": "code",
   "execution_count": 21,
   "id": "e9a9539c-66ab-4940-a5af-e7f46e5ac878",
   "metadata": {},
   "outputs": [],
   "source": [
    "merged_journals =  pd.merge(journals, journals_in_articles_sel, left_on=':ID', right_on=':END_ID').drop(columns = [i for i in journals_in_articles_sel.columns])\n"
   ]
  },
  {
   "cell_type": "code",
   "execution_count": 22,
   "id": "4e9a8962-0c98-4c9b-abd1-45f39261699d",
   "metadata": {},
   "outputs": [
    {
     "data": {
      "text/html": [
       "<div>\n",
       "<style scoped>\n",
       "    .dataframe tbody tr th:only-of-type {\n",
       "        vertical-align: middle;\n",
       "    }\n",
       "\n",
       "    .dataframe tbody tr th {\n",
       "        vertical-align: top;\n",
       "    }\n",
       "\n",
       "    .dataframe thead th {\n",
       "        text-align: right;\n",
       "    }\n",
       "</style>\n",
       "<table border=\"1\" class=\"dataframe\">\n",
       "  <thead>\n",
       "    <tr style=\"text-align: right;\">\n",
       "      <th></th>\n",
       "      <th>:ID</th>\n",
       "      <th>journal:string</th>\n",
       "    </tr>\n",
       "  </thead>\n",
       "  <tbody>\n",
       "    <tr>\n",
       "      <th>0</th>\n",
       "      <td>13088639</td>\n",
       "      <td>World Wide Web</td>\n",
       "    </tr>\n",
       "    <tr>\n",
       "      <th>1</th>\n",
       "      <td>13088639</td>\n",
       "      <td>World Wide Web</td>\n",
       "    </tr>\n",
       "    <tr>\n",
       "      <th>2</th>\n",
       "      <td>13088639</td>\n",
       "      <td>World Wide Web</td>\n",
       "    </tr>\n",
       "    <tr>\n",
       "      <th>3</th>\n",
       "      <td>13088639</td>\n",
       "      <td>World Wide Web</td>\n",
       "    </tr>\n",
       "    <tr>\n",
       "      <th>4</th>\n",
       "      <td>13088639</td>\n",
       "      <td>World Wide Web</td>\n",
       "    </tr>\n",
       "  </tbody>\n",
       "</table>\n",
       "</div>"
      ],
      "text/plain": [
       "        :ID  journal:string\n",
       "0  13088639  World Wide Web\n",
       "1  13088639  World Wide Web\n",
       "2  13088639  World Wide Web\n",
       "3  13088639  World Wide Web\n",
       "4  13088639  World Wide Web"
      ]
     },
     "execution_count": 22,
     "metadata": {},
     "output_type": "execute_result"
    }
   ],
   "source": [
    "merged_journals.head()"
   ]
  },
  {
   "cell_type": "code",
   "execution_count": 23,
   "id": "e6ae404f-82d5-459c-be27-fe289aa66d5f",
   "metadata": {},
   "outputs": [
    {
     "data": {
      "text/plain": [
       "0"
      ]
     },
     "execution_count": 23,
     "metadata": {},
     "output_type": "execute_result"
    }
   ],
   "source": [
    "merged_journals.shape\n",
    "#print(articles_sel_in_journals.nunique())\n",
    "#print(articles_sel_in_journals.isna().sum())\n",
    "\n",
    "del journals, articles_in_journals\n",
    "gc.collect()"
   ]
  },
  {
   "cell_type": "code",
   "execution_count": 24,
   "id": "704d624f-5b1a-4039-a22f-73d0699ae090",
   "metadata": {},
   "outputs": [],
   "source": [
    "journals_in_articles_sel.to_csv(path_or_buf='Mains/articles_in_journal.csv',index=False)\n",
    "merged_journals.to_csv(path_or_buf='Mains/journals.csv',index=False)\n"
   ]
  },
  {
   "cell_type": "code",
   "execution_count": null,
   "id": "a0ef5810-ddf4-429c-a7b4-7cf3b36af2cd",
   "metadata": {},
   "outputs": [],
   "source": []
  },
  {
   "cell_type": "markdown",
   "id": "106092d5-48e3-4e40-876e-3af37e108192",
   "metadata": {},
   "source": [
    "### INPROCEEDINGS - Conferences"
   ]
  },
  {
   "cell_type": "code",
   "execution_count": 25,
   "id": "97dd74e8-fd88-4291-880a-c883cde69bc8",
   "metadata": {},
   "outputs": [],
   "source": [
    "#INPROCEEDINGS - Main"
   ]
  },
  {
   "cell_type": "code",
   "execution_count": 26,
   "id": "d4e9835e-43ba-4a68-a643-a724e3d08f74",
   "metadata": {},
   "outputs": [
    {
     "name": "stderr",
     "output_type": "stream",
     "text": [
      "C:\\Users\\chibo\\anaconda3\\lib\\site-packages\\IPython\\core\\interactiveshell.py:3444: DtypeWarning: Columns (2,5,6,7,9,10,16,17,18,19,21,22,25,26) have mixed types.Specify dtype option on import or set low_memory=False.\n",
      "  exec(code_obj, self.user_global_ns, self.user_ns)\n"
     ]
    }
   ],
   "source": [
    "# View total number of Conferences\n",
    "\n",
    "## Article headers\n",
    "with open('DXML\\\\output_inproceedings_header.csv') as f:\n",
    "    proceedings_header = f.readline().split(';');\n",
    "    #print(proceedings_header[1:5])\n",
    "\n",
    "## Number of articles in dataset\n",
    "inproceedings = pd.read_csv('DXML\\\\output_inproceedings.csv', header=0, names=proceedings_header, sep=';');\n",
    "\n",
    "## Display articles\n",
    "#inproceedings.head(2)"
   ]
  },
  {
   "cell_type": "code",
   "execution_count": 27,
   "id": "90a74744-9053-43e5-88cc-21a5821bcd17",
   "metadata": {},
   "outputs": [],
   "source": [
    "# Pre-processing Total number of inproceedings\n",
    "\n",
    "## Drop inproceedings columns with more than half null values \n",
    "inproceedings.drop(columns = [i for i in inproceedings.columns if (inproceedings[i].isna().sum() > inproceedings[i].count()/2) == True], inplace = True)\n",
    "\n",
    "## Drop inproceedings rows without author, number or articleID\n",
    "inproceedings.dropna(subset = [i for i in inproceedings.columns], inplace = True)"
   ]
  },
  {
   "cell_type": "code",
   "execution_count": 28,
   "id": "d0d02c4f-227c-49e0-9a43-4f8ff306e5c6",
   "metadata": {},
   "outputs": [
    {
     "name": "stdout",
     "output_type": "stream",
     "text": [
      "(2907284, 11)\n"
     ]
    },
    {
     "data": {
      "text/html": [
       "<div>\n",
       "<style scoped>\n",
       "    .dataframe tbody tr th:only-of-type {\n",
       "        vertical-align: middle;\n",
       "    }\n",
       "\n",
       "    .dataframe tbody tr th {\n",
       "        vertical-align: top;\n",
       "    }\n",
       "\n",
       "    .dataframe thead th {\n",
       "        text-align: right;\n",
       "    }\n",
       "</style>\n",
       "<table border=\"1\" class=\"dataframe\">\n",
       "  <thead>\n",
       "    <tr style=\"text-align: right;\">\n",
       "      <th></th>\n",
       "      <th>inproceedings:ID</th>\n",
       "      <th>author:string[]</th>\n",
       "      <th>booktitle:string</th>\n",
       "      <th>crossref:string[]</th>\n",
       "      <th>ee:string[]</th>\n",
       "      <th>key:string</th>\n",
       "      <th>mdate:date</th>\n",
       "      <th>pages:string</th>\n",
       "      <th>title:string</th>\n",
       "      <th>url:string</th>\n",
       "      <th>year:int</th>\n",
       "    </tr>\n",
       "  </thead>\n",
       "  <tbody>\n",
       "    <tr>\n",
       "      <th>0</th>\n",
       "      <td>3326528</td>\n",
       "      <td>Qiming Chen|Umeshwar Dayal</td>\n",
       "      <td>CoopIS</td>\n",
       "      <td>conf/coopis/2000</td>\n",
       "      <td>https://doi.org/10.1007/10722620_29</td>\n",
       "      <td>conf/coopis/ChenD00</td>\n",
       "      <td>2017-05-24</td>\n",
       "      <td>311-322</td>\n",
       "      <td>Multi-Agent Cooperative Transactions for E-Commerce.</td>\n",
       "      <td>db/conf/coopis/coopis2000.html#ChenD00</td>\n",
       "      <td>2000</td>\n",
       "    </tr>\n",
       "    <tr>\n",
       "      <th>1</th>\n",
       "      <td>3326529</td>\n",
       "      <td>Emmanuel Cecchet|Renaud Lachaize|Takoua Abdellatif</td>\n",
       "      <td>CoopIS/DOA/ODBASE (2)</td>\n",
       "      <td>conf/coopis/2004-2</td>\n",
       "      <td>https://doi.org/10.1007/978-3-540-30469-2_46</td>\n",
       "      <td>conf/coopis/AbdellatifCL04</td>\n",
       "      <td>2017-05-25</td>\n",
       "      <td>1571-1589</td>\n",
       "      <td>Evaluation of a Group Communication Middleware for Clustered J2EE Application Servers.</td>\n",
       "      <td>db/conf/coopis/coopis2004-2.html#AbdellatifCL04</td>\n",
       "      <td>2004</td>\n",
       "    </tr>\n",
       "  </tbody>\n",
       "</table>\n",
       "</div>"
      ],
      "text/plain": [
       "   inproceedings:ID                                     author:string[]  \\\n",
       "0           3326528                          Qiming Chen|Umeshwar Dayal   \n",
       "1           3326529  Emmanuel Cecchet|Renaud Lachaize|Takoua Abdellatif   \n",
       "\n",
       "        booktitle:string   crossref:string[]  \\\n",
       "0                 CoopIS    conf/coopis/2000   \n",
       "1  CoopIS/DOA/ODBASE (2)  conf/coopis/2004-2   \n",
       "\n",
       "                                    ee:string[]                  key:string  \\\n",
       "0           https://doi.org/10.1007/10722620_29         conf/coopis/ChenD00   \n",
       "1  https://doi.org/10.1007/978-3-540-30469-2_46  conf/coopis/AbdellatifCL04   \n",
       "\n",
       "   mdate:date pages:string  \\\n",
       "0  2017-05-24      311-322   \n",
       "1  2017-05-25    1571-1589   \n",
       "\n",
       "                                                                             title:string  \\\n",
       "0                                    Multi-Agent Cooperative Transactions for E-Commerce.   \n",
       "1  Evaluation of a Group Communication Middleware for Clustered J2EE Application Servers.   \n",
       "\n",
       "                                        url:string  year:int  \n",
       "0           db/conf/coopis/coopis2000.html#ChenD00      2000  \n",
       "1  db/conf/coopis/coopis2004-2.html#AbdellatifCL04      2004  "
      ]
     },
     "execution_count": 28,
     "metadata": {},
     "output_type": "execute_result"
    }
   ],
   "source": [
    "print(inproceedings.shape)\n",
    "inproceedings.head(2)"
   ]
  },
  {
   "cell_type": "code",
   "execution_count": 29,
   "id": "3170d213-93cb-48e5-b6e0-0ddda3d6b2aa",
   "metadata": {},
   "outputs": [],
   "source": [
    "#Merge Inpro with Articles\n",
    "articles_sel_in_inproceedings = pd.merge(articles_selected, inproceedings, left_on=['title:string','author:string[]'], right_on=['title:string', 'author:string[]'])"
   ]
  },
  {
   "cell_type": "code",
   "execution_count": 30,
   "id": "60385d7b-35f8-4b36-9008-fce904174ce9",
   "metadata": {},
   "outputs": [
    {
     "data": {
      "text/plain": [
       "Index(['article:ID', 'author:string[]', 'ee:string[]_x', 'journal:string',\n",
       "       'key:string_x', 'mdate:date_x', 'number:string', 'pages:string_x',\n",
       "       'title:string', 'url:string[]', 'volume:string', 'year:int_x',\n",
       "       'inproceedings:ID', 'booktitle:string', 'crossref:string[]',\n",
       "       'ee:string[]_y', 'key:string_y', 'mdate:date_y', 'pages:string_y',\n",
       "       'url:string', 'year:int_y'],\n",
       "      dtype='object')"
      ]
     },
     "execution_count": 30,
     "metadata": {},
     "output_type": "execute_result"
    }
   ],
   "source": [
    "articles_sel_in_inproceedings.columns"
   ]
  },
  {
   "cell_type": "code",
   "execution_count": 31,
   "id": "8f9c28fe-f220-4ea3-b36a-d09773618abc",
   "metadata": {},
   "outputs": [],
   "source": [
    "sel_inproceedings = articles_sel_in_inproceedings.copy()\n"
   ]
  },
  {
   "cell_type": "code",
   "execution_count": 32,
   "id": "d3c336cf-83f8-4dca-b61b-69163dec32f3",
   "metadata": {},
   "outputs": [],
   "source": [
    "drop_col = ['author:string[]', 'ee:string[]_x', 'journal:string',\n",
    "       'key:string_x', 'mdate:date_x', 'number:string', 'pages:string_x',\n",
    "       'title:string', 'url:string[]', 'volume:string', 'year:int_x','booktitle:string', 'crossref:string[]',\n",
    "       'ee:string[]_y', 'key:string_y', 'mdate:date_y', 'pages:string_y', 'url:string', 'year:int_y']\n",
    "\n",
    "sel_inproceedings.drop(columns=drop_col, inplace = True)\n",
    "\n",
    "# Rename\n",
    "sel_inproceedings = sel_inproceedings.rename(columns={'article:ID': ':START_ID(:ARTICLE_ID)',\n",
    "                                                                'inproceedings:ID': ':END_ID(:Inproceedings_ID)'})\n",
    "\n"
   ]
  },
  {
   "cell_type": "code",
   "execution_count": 33,
   "id": "f80b4026-d4b2-4a73-a976-de4d2574d6e2",
   "metadata": {},
   "outputs": [
    {
     "data": {
      "text/html": [
       "<div>\n",
       "<style scoped>\n",
       "    .dataframe tbody tr th:only-of-type {\n",
       "        vertical-align: middle;\n",
       "    }\n",
       "\n",
       "    .dataframe tbody tr th {\n",
       "        vertical-align: top;\n",
       "    }\n",
       "\n",
       "    .dataframe thead th {\n",
       "        text-align: right;\n",
       "    }\n",
       "</style>\n",
       "<table border=\"1\" class=\"dataframe\">\n",
       "  <thead>\n",
       "    <tr style=\"text-align: right;\">\n",
       "      <th></th>\n",
       "      <th>:START_ID(:ARTICLE_ID)</th>\n",
       "      <th>:END_ID(:Inproceedings_ID)</th>\n",
       "    </tr>\n",
       "  </thead>\n",
       "  <tbody>\n",
       "    <tr>\n",
       "      <th>0</th>\n",
       "      <td>7286206</td>\n",
       "      <td>4871121</td>\n",
       "    </tr>\n",
       "    <tr>\n",
       "      <th>1</th>\n",
       "      <td>7286249</td>\n",
       "      <td>5282688</td>\n",
       "    </tr>\n",
       "    <tr>\n",
       "      <th>2</th>\n",
       "      <td>7286673</td>\n",
       "      <td>5360887</td>\n",
       "    </tr>\n",
       "    <tr>\n",
       "      <th>3</th>\n",
       "      <td>8455374</td>\n",
       "      <td>6304288</td>\n",
       "    </tr>\n",
       "    <tr>\n",
       "      <th>4</th>\n",
       "      <td>8480582</td>\n",
       "      <td>3944520</td>\n",
       "    </tr>\n",
       "  </tbody>\n",
       "</table>\n",
       "</div>"
      ],
      "text/plain": [
       "   :START_ID(:ARTICLE_ID)  :END_ID(:Inproceedings_ID)\n",
       "0                 7286206                     4871121\n",
       "1                 7286249                     5282688\n",
       "2                 7286673                     5360887\n",
       "3                 8455374                     6304288\n",
       "4                 8480582                     3944520"
      ]
     },
     "execution_count": 33,
     "metadata": {},
     "output_type": "execute_result"
    }
   ],
   "source": [
    "sel_inproceedings.head()"
   ]
  },
  {
   "cell_type": "code",
   "execution_count": 34,
   "id": "39eee63d-9413-4769-9bfc-8fb6e4d641c4",
   "metadata": {},
   "outputs": [],
   "source": [
    "drop_col = ['ee:string[]_x', 'journal:string', 'key:string_x', 'mdate:date_x', 'number:string', 'pages:string_x',\n",
    "       'title:string', 'url:string[]', 'volume:string', 'year:int_x']\n",
    "\n",
    "articles_sel_in_inproceedings.drop(columns=drop_col, inplace = True)"
   ]
  },
  {
   "cell_type": "code",
   "execution_count": 35,
   "id": "f96673cb-2f3e-4122-ba23-473e6378543d",
   "metadata": {},
   "outputs": [
    {
     "data": {
      "text/plain": [
       "(1635, 11)"
      ]
     },
     "execution_count": 35,
     "metadata": {},
     "output_type": "execute_result"
    }
   ],
   "source": [
    "articles_sel_in_inproceedings.shape"
   ]
  },
  {
   "cell_type": "code",
   "execution_count": 36,
   "id": "c09b3511-ee58-4f68-b377-849ad119cb19",
   "metadata": {},
   "outputs": [],
   "source": [
    "sel_inproceedings.to_csv(path_or_buf='Mains/articles_in_conferences.csv',index=False)\n",
    "articles_sel_in_inproceedings.to_csv(path_or_buf='Mains/conferences.csv',index=False)\n",
    "\n"
   ]
  },
  {
   "cell_type": "code",
   "execution_count": 37,
   "id": "d7842c98-d969-4265-a15a-9632831b8c5f",
   "metadata": {},
   "outputs": [
    {
     "data": {
      "text/plain": [
       "0"
      ]
     },
     "execution_count": 37,
     "metadata": {},
     "output_type": "execute_result"
    }
   ],
   "source": [
    "del inproceedings\n",
    "gc.collect()\n"
   ]
  },
  {
   "cell_type": "markdown",
   "id": "ac6e1067-263a-4245-8d64-7ccc806ac69b",
   "metadata": {},
   "source": [
    "### REVIEWERS NODE"
   ]
  },
  {
   "cell_type": "code",
   "execution_count": 38,
   "id": "a288df2d-7073-4e00-a4fb-2b3426e3de07",
   "metadata": {},
   "outputs": [],
   "source": [
    "# first we have to find the papers of each author.\n",
    "art_auth_dict = defaultdict(list)\n",
    "for idx,row in authors_in_articles_sel.iterrows():\n",
    "    art_auth_dict[row[':START_ID']].append(row[':END_ID'])"
   ]
  },
  {
   "cell_type": "code",
   "execution_count": 39,
   "id": "8518168e-028b-4726-9303-6fae5baf6ddc",
   "metadata": {},
   "outputs": [
    {
     "name": "stderr",
     "output_type": "stream",
     "text": [
      "C:\\Users\\chibo\\AppData\\Local\\Temp/ipykernel_12000/440580588.py:18: DeprecationWarning: Sampling from a set deprecated\n",
      "since Python 3.9 and will be removed in a subsequent version.\n",
      "  revs = random.sample(revs,3)\n"
     ]
    }
   ],
   "source": [
    "all_papers = list(articles_selected['article:ID'])\n",
    "all_authors = list(authored_with_articles[':ID'])\n",
    "\n",
    "f1 = open('Mains\\\\article_reviews.csv', 'w', newline='')\n",
    "f2 = open('Mains\\\\reviews.csv', 'w', newline='')\n",
    "with open('Mains\\\\article_reviews.csv', 'w', newline='') as writeFile:\n",
    "    writer1 = csv.writer(f1)\n",
    "    writer2 = csv.writer(f2)\n",
    "    writer1.writerow([':END_ID',':START_ID(:ARTICLE_ID)'])\n",
    "    writer2.writerow([':END_ID','review:string','accepted:boolean',':START_ID(:ARTICLE_ID)'])\n",
    "    for (i,paper) in enumerate(all_papers):\n",
    "        if i % 1000 == 0:\n",
    "            reviewers = random.sample(all_authors,1000)\n",
    "#             print(i)\n",
    "        # exclude authors for being selected as reviewers of a paper\n",
    "        revs = set(reviewers) - set(art_auth_dict[paper])\n",
    "        # Assumption: 3 reviewers per paper - all accept it\n",
    "        revs = random.sample(revs,3)\n",
    "        for r in revs:\n",
    "            writer1.writerow([r,paper])\n",
    "            writer2.writerow([r,lorem.sentence(),True,paper])"
   ]
  },
  {
   "cell_type": "code",
   "execution_count": 40,
   "id": "409664dc-f90f-411a-98fd-40efa1a113da",
   "metadata": {},
   "outputs": [
    {
     "data": {
      "text/plain": [
       "0"
      ]
     },
     "execution_count": 40,
     "metadata": {},
     "output_type": "execute_result"
    }
   ],
   "source": [
    "gc.collect()\n"
   ]
  },
  {
   "cell_type": "markdown",
   "id": "348ba791-bc76-49c0-8598-b822ab9f0859",
   "metadata": {},
   "source": [
    "## ADDING ABSTRACTS TO ARTICLES & CORRESPONDING AUTHOR"
   ]
  },
  {
   "cell_type": "code",
   "execution_count": 41,
   "id": "3e1aa2ed-b18d-4a8f-bcb5-b90f5a0f04a6",
   "metadata": {},
   "outputs": [],
   "source": [
    "abstracts = []\n",
    "\n",
    "for i in range(articles_selected.shape[0]):\n",
    "    abstracts.append(lorem.paragraph())\n",
    "        \n",
    "articles_selected['abstract:string'] = abstracts"
   ]
  },
  {
   "cell_type": "code",
   "execution_count": 42,
   "id": "a9ff8623-83db-46df-9b66-ef8488fe91fa",
   "metadata": {},
   "outputs": [],
   "source": [
    "articles_selected['abstract:string'] = articles_selected[['abstract:string', 'title:string']].agg(' '.join, axis=1)"
   ]
  },
  {
   "cell_type": "code",
   "execution_count": 43,
   "id": "c784983a-7b6e-4a21-bbb4-bd0367864975",
   "metadata": {},
   "outputs": [],
   "source": [
    "articles_selected[\"corresponding_author:string[]\"] = articles_selected[\"author:string[]\"].str.split(\"|\", expand = True)[0]"
   ]
  },
  {
   "cell_type": "code",
   "execution_count": 44,
   "id": "db29b848-6ed4-481d-91b9-c42a810cc01b",
   "metadata": {},
   "outputs": [
    {
     "data": {
      "text/html": [
       "<div>\n",
       "<style scoped>\n",
       "    .dataframe tbody tr th:only-of-type {\n",
       "        vertical-align: middle;\n",
       "    }\n",
       "\n",
       "    .dataframe tbody tr th {\n",
       "        vertical-align: top;\n",
       "    }\n",
       "\n",
       "    .dataframe thead th {\n",
       "        text-align: right;\n",
       "    }\n",
       "</style>\n",
       "<table border=\"1\" class=\"dataframe\">\n",
       "  <thead>\n",
       "    <tr style=\"text-align: right;\">\n",
       "      <th></th>\n",
       "      <th>article:ID</th>\n",
       "      <th>author:string[]</th>\n",
       "      <th>ee:string[]</th>\n",
       "      <th>journal:string</th>\n",
       "      <th>key:string</th>\n",
       "      <th>mdate:date</th>\n",
       "      <th>number:string</th>\n",
       "      <th>pages:string</th>\n",
       "      <th>title:string</th>\n",
       "      <th>url:string[]</th>\n",
       "      <th>volume:string</th>\n",
       "      <th>year:int</th>\n",
       "      <th>abstract:string</th>\n",
       "      <th>corresponding_author:string[]</th>\n",
       "    </tr>\n",
       "  </thead>\n",
       "  <tbody>\n",
       "    <tr>\n",
       "      <th>673173</th>\n",
       "      <td>7285251</td>\n",
       "      <td>Dennis E. Shasha</td>\n",
       "      <td>http://sites.computer.org/debull/99june/dennisa.ps</td>\n",
       "      <td>IEEE Data Eng. Bull.</td>\n",
       "      <td>journals/debu/Shasha99</td>\n",
       "      <td>2020-03-10</td>\n",
       "      <td>2</td>\n",
       "      <td>40-46</td>\n",
       "      <td>Tuning Time Series Queries in Finance: Case Studies and Recommendations.</td>\n",
       "      <td>db/journals/debu/debu22.html#Shasha99</td>\n",
       "      <td>22.0</td>\n",
       "      <td>1999.0</td>\n",
       "      <td>Dolorem dolorem non etincidunt etincidunt velit. Porro numquam sit quisquam ipsum numquam. Dolore voluptatem ipsum quaerat dolor sit. Ut amet ut est numquam. Amet voluptatem numquam dolorem labore tempora est magnam. Tuning Time Series Queries in Finance: Case Studies and Recommendations.</td>\n",
       "      <td>Dennis E. Shasha</td>\n",
       "    </tr>\n",
       "  </tbody>\n",
       "</table>\n",
       "</div>"
      ],
      "text/plain": [
       "        article:ID   author:string[]  \\\n",
       "673173     7285251  Dennis E. Shasha   \n",
       "\n",
       "                                               ee:string[]  \\\n",
       "673173  http://sites.computer.org/debull/99june/dennisa.ps   \n",
       "\n",
       "              journal:string              key:string  mdate:date  \\\n",
       "673173  IEEE Data Eng. Bull.  journals/debu/Shasha99  2020-03-10   \n",
       "\n",
       "       number:string pages:string  \\\n",
       "673173             2        40-46   \n",
       "\n",
       "                                                                    title:string  \\\n",
       "673173  Tuning Time Series Queries in Finance: Case Studies and Recommendations.   \n",
       "\n",
       "                                 url:string[] volume:string  year:int  \\\n",
       "673173  db/journals/debu/debu22.html#Shasha99          22.0    1999.0   \n",
       "\n",
       "                                                                                                                                                                                                                                                                                          abstract:string  \\\n",
       "673173  Dolorem dolorem non etincidunt etincidunt velit. Porro numquam sit quisquam ipsum numquam. Dolore voluptatem ipsum quaerat dolor sit. Ut amet ut est numquam. Amet voluptatem numquam dolorem labore tempora est magnam. Tuning Time Series Queries in Finance: Case Studies and Recommendations.   \n",
       "\n",
       "       corresponding_author:string[]  \n",
       "673173              Dennis E. Shasha  "
      ]
     },
     "execution_count": 44,
     "metadata": {},
     "output_type": "execute_result"
    }
   ],
   "source": [
    "articles_selected.head(1)"
   ]
  },
  {
   "cell_type": "code",
   "execution_count": 45,
   "id": "7aca80e1-4f2d-4f25-9c9e-8bbf926b7c16",
   "metadata": {},
   "outputs": [],
   "source": [
    "articles_selected.to_csv(path_or_buf='Mains/articles.csv',index=False)"
   ]
  },
  {
   "cell_type": "code",
   "execution_count": null,
   "id": "1847acb7-cfbf-4fbc-b3ee-f8b8a523eeba",
   "metadata": {},
   "outputs": [],
   "source": []
  },
  {
   "cell_type": "markdown",
   "id": "4104ca06-9fda-4c78-9862-e80bcfce303b",
   "metadata": {},
   "source": [
    "## KEYWORDS NODE"
   ]
  },
  {
   "cell_type": "code",
   "execution_count": 46,
   "id": "99f5c865-739d-47eb-bd61-eee267badf2d",
   "metadata": {},
   "outputs": [
    {
     "name": "stdout",
     "output_type": "stream",
     "text": [
      "['Self-Configuration', 'Eagle-Eye-Inspired', 'Environment-Aware', 'In-Memory-Datenmanagement']\n"
     ]
    }
   ],
   "source": [
    "# KEYWORDS\n",
    "\n",
    "split_title = articles_selected[\"title:string\"].str.split(\" \", expand=True)\n",
    "\n",
    "kwords = []\n",
    "\n",
    "for i in split_title[split_title.columns[0]].values.tolist():\n",
    "    if len(i) > 15 :\n",
    "        kwords.append(i)\n",
    "        \n",
    "my_list = list(set(list(kwords)))\n",
    "print(my_list[4:8])"
   ]
  },
  {
   "cell_type": "code",
   "execution_count": 47,
   "id": "e09b1764-45d0-49ce-88eb-32cdbc74dc59",
   "metadata": {},
   "outputs": [
    {
     "name": "stdout",
     "output_type": "stream",
     "text": [
      "['Self-Configuration', 'Eagle-Eye-Inspired', 'Environment-Aware', 'In-Memory-Datenmanagement']\n"
     ]
    },
    {
     "data": {
      "text/plain": [
       "3391"
      ]
     },
     "execution_count": 47,
     "metadata": {},
     "output_type": "execute_result"
    }
   ],
   "source": [
    "# Filter out words containing non-ASCII characters\n",
    "my_list = [word for word in my_list if all(ord(char) < 128 for char in word)]\n",
    "\n",
    "print(my_list[4:8])\n",
    "len(my_list)"
   ]
  },
  {
   "cell_type": "code",
   "execution_count": 48,
   "id": "eb5ae91c-6e6f-4035-88dd-417bf424f596",
   "metadata": {},
   "outputs": [],
   "source": [
    "db_keywords = ['data management', 'indexing', 'data modeling', 'big data', 'data processing'\n",
    "               , 'data storage', 'data querying', 'semantic', 'database']"
   ]
  },
  {
   "cell_type": "code",
   "execution_count": 49,
   "id": "0894eca7-ed48-475d-89ed-5d5d583ee9be",
   "metadata": {},
   "outputs": [],
   "source": [
    "my_list\n",
    "kw_ids = {}\n",
    "i = 99999999\n",
    "with open('Mains\\\\keywords.csv', 'w', newline='') as writeFile:\n",
    "    writer = csv.writer(writeFile)\n",
    "    writer.writerow([':ID','word:string'])\n",
    "    for kw in db_keywords+my_list:\n",
    "        kw_ids[kw] = i\n",
    "        writer.writerow([i,kw])\n",
    "        i+=1\n",
    "with open('Mains\\\\article_keywords.csv', 'w', newline='') as writeFile:\n",
    "    writer = csv.writer(writeFile)\n",
    "    # to make sure we can test lab questions, we will make the subset of the papers that cite/are cited to \n",
    "    # belong to the database community\n",
    "    writer.writerow([':START_ID',':END_ID'])\n",
    "    for paper in referenced_papers:\n",
    "        db_kw_num = random.randint(1,4)\n",
    "        more_kw_num = random.randint(1,4)\n",
    "        kws = random.sample(db_keywords,db_kw_num) + random.sample(my_list, more_kw_num)\n",
    "        for kw in kws:\n",
    "            writer.writerow([paper,kw_ids[kw]])\n",
    "    for paper in (set(all_papers) - set(referenced_papers)):\n",
    "        db_kw_num = random.randint(0,1)\n",
    "        more_kw_num = random.randint(0,3)\n",
    "        kws = random.sample(db_keywords,db_kw_num) + random.sample(my_list, more_kw_num)\n",
    "        for kw in kws:\n",
    "            writer.writerow([paper,kw_ids[kw]])"
   ]
  },
  {
   "cell_type": "code",
   "execution_count": null,
   "id": "9ac1ca58-e3e0-4407-83a4-d46cd479a66c",
   "metadata": {},
   "outputs": [],
   "source": []
  },
  {
   "cell_type": "markdown",
   "id": "0028bcdf-5b39-40f2-ba2f-be886e32ebde",
   "metadata": {},
   "source": [
    "## AFFILIATION NODE"
   ]
  },
  {
   "cell_type": "code",
   "execution_count": 50,
   "id": "554433df-14c8-4e26-82d0-1fe7c7e0f1e1",
   "metadata": {},
   "outputs": [],
   "source": [
    "#Similarly we want to keep only the journals for which we have articles published in\n",
    "school = pd.read_csv('DXML\\\\output_school.csv',sep=';')\n",
    "output_school_submitted_at = pd.read_csv('DXML\\\\output_school_submitted_at.csv',sep=';')"
   ]
  },
  {
   "cell_type": "code",
   "execution_count": 51,
   "id": "4423879f-5e5a-4810-b6cf-532d9552d3f7",
   "metadata": {},
   "outputs": [
    {
     "data": {
      "text/html": [
       "<div>\n",
       "<style scoped>\n",
       "    .dataframe tbody tr th:only-of-type {\n",
       "        vertical-align: middle;\n",
       "    }\n",
       "\n",
       "    .dataframe tbody tr th {\n",
       "        vertical-align: top;\n",
       "    }\n",
       "\n",
       "    .dataframe thead th {\n",
       "        text-align: right;\n",
       "    }\n",
       "</style>\n",
       "<table border=\"1\" class=\"dataframe\">\n",
       "  <thead>\n",
       "    <tr style=\"text-align: right;\">\n",
       "      <th></th>\n",
       "      <th>:ID</th>\n",
       "      <th>school:string</th>\n",
       "    </tr>\n",
       "  </thead>\n",
       "  <tbody>\n",
       "    <tr>\n",
       "      <th>0</th>\n",
       "      <td>13013659</td>\n",
       "      <td>University of Texas, Austin</td>\n",
       "    </tr>\n",
       "    <tr>\n",
       "      <th>1</th>\n",
       "      <td>13013660</td>\n",
       "      <td>University of California at Berkeley</td>\n",
       "    </tr>\n",
       "  </tbody>\n",
       "</table>\n",
       "</div>"
      ],
      "text/plain": [
       "        :ID                         school:string\n",
       "0  13013659           University of Texas, Austin\n",
       "1  13013660  University of California at Berkeley"
      ]
     },
     "execution_count": 51,
     "metadata": {},
     "output_type": "execute_result"
    }
   ],
   "source": [
    "school.head(2)"
   ]
  },
  {
   "cell_type": "code",
   "execution_count": 52,
   "id": "f500db32-d501-49e0-acf2-4789c3b3b675",
   "metadata": {},
   "outputs": [
    {
     "data": {
      "text/html": [
       "<div>\n",
       "<style scoped>\n",
       "    .dataframe tbody tr th:only-of-type {\n",
       "        vertical-align: middle;\n",
       "    }\n",
       "\n",
       "    .dataframe tbody tr th {\n",
       "        vertical-align: top;\n",
       "    }\n",
       "\n",
       "    .dataframe thead th {\n",
       "        text-align: right;\n",
       "    }\n",
       "</style>\n",
       "<table border=\"1\" class=\"dataframe\">\n",
       "  <thead>\n",
       "    <tr style=\"text-align: right;\">\n",
       "      <th></th>\n",
       "      <th>:START_ID</th>\n",
       "      <th>:END_ID</th>\n",
       "    </tr>\n",
       "  </thead>\n",
       "  <tbody>\n",
       "    <tr>\n",
       "      <th>0</th>\n",
       "      <td>1006</td>\n",
       "      <td>13013659</td>\n",
       "    </tr>\n",
       "    <tr>\n",
       "      <th>1</th>\n",
       "      <td>7</td>\n",
       "      <td>13013659</td>\n",
       "    </tr>\n",
       "  </tbody>\n",
       "</table>\n",
       "</div>"
      ],
      "text/plain": [
       "   :START_ID   :END_ID\n",
       "0       1006  13013659\n",
       "1          7  13013659"
      ]
     },
     "execution_count": 52,
     "metadata": {},
     "output_type": "execute_result"
    }
   ],
   "source": [
    "output_school_submitted_at.head(2)"
   ]
  },
  {
   "cell_type": "code",
   "execution_count": 53,
   "id": "c8079790-cdc7-4a1f-b824-4bfc96a3b785",
   "metadata": {},
   "outputs": [
    {
     "name": "stderr",
     "output_type": "stream",
     "text": [
      "C:\\Users\\chibo\\AppData\\Local\\Temp/ipykernel_12000/3065565245.py:18: DeprecationWarning: Sampling from a set deprecated\n",
      "since Python 3.9 and will be removed in a subsequent version.\n",
      "  revs = random.sample(revs,1)\n"
     ]
    }
   ],
   "source": [
    "authors = list(authored_with_articles[':ID'])\n",
    "all_schools = list(school[':ID'])\n",
    "\n",
    "f1 = open('Mains\\\\author_affiliated_school.csv', 'w', newline='')\n",
    "#f2 = open('Mains\\\\reviews.csv', 'w', newline='')\n",
    "with open('Mains\\\\author_affiliated_school.csv', 'w', newline='') as writeFile:\n",
    "    writer1 = csv.writer(f1)\n",
    "    #writer2 = csv.writer(f2)\n",
    "    writer1.writerow([':END_ID',':START_ID(:AUTHOR_ID)'])\n",
    "    #writer2.writerow([':END_ID','review:string','accepted:boolean',':START_ID(:ARTICLE_ID)'])\n",
    "    for (i,paper) in enumerate(authors):\n",
    "        if i % 1000 == 0:\n",
    "            reviewers = random.sample(all_schools,1000)\n",
    "#             print(i)\n",
    "        # exclude authors for being selected as reviewers of a paper\n",
    "        revs = set(reviewers) - set(art_auth_dict[paper])\n",
    "        # Assumption: 3 reviewers per paper - all accept it\n",
    "        revs = random.sample(revs,1)\n",
    "        for r in revs:\n",
    "            writer1.writerow([r,paper])\n",
    "            #writer2.writerow([r,lorem.sentence(),True,paper])"
   ]
  },
  {
   "cell_type": "code",
   "execution_count": null,
   "id": "24a035ce-95b9-41c8-bfc1-1ff1881c4cc8",
   "metadata": {},
   "outputs": [],
   "source": []
  }
 ],
 "metadata": {
  "kernelspec": {
   "display_name": "Python 3 (ipykernel)",
   "language": "python",
   "name": "python3"
  },
  "language_info": {
   "codemirror_mode": {
    "name": "ipython",
    "version": 3
   },
   "file_extension": ".py",
   "mimetype": "text/x-python",
   "name": "python",
   "nbconvert_exporter": "python",
   "pygments_lexer": "ipython3",
   "version": "3.9.7"
  }
 },
 "nbformat": 4,
 "nbformat_minor": 5
}
